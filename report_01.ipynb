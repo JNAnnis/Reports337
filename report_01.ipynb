{
 "cells": [
  {
   "cell_type": "markdown",
   "metadata": {},
   "source": [
    "# Report 1: Primitive Pythagorean Triples"
   ]
  },
  {
   "cell_type": "markdown",
   "metadata": {},
   "source": [
    "## Jillian Annis"
   ]
  },
  {
   "cell_type": "markdown",
   "metadata": {},
   "source": [
    "### Introduction"
   ]
  },
  {
   "cell_type": "markdown",
   "metadata": {},
   "source": [
    "A Pythagorean triple consists of a set of positive integers **(a, b, c)** that satisfy the equation $a^2+b^2=c^2$.  Usually, primitive Pythagorean triples are considered because other triples can be aquired from the primitive ones by multiplying by some scale factor.  A Pythagorean triple is primitive only if **a** and **b** are relatively prime, which means that they have no greatest common divisor (GCD) other than 1. "
   ]
  },
  {
   "cell_type": "markdown",
   "metadata": {},
   "source": [
    "### Task Statement"
   ]
  },
  {
   "cell_type": "markdown",
   "metadata": {},
   "source": [
    "In this report, the goal is to find any identifiable mathematical patterns present in the plots and lists of primitive Pythagorean triples.  The plots and lists of triples will be generated from **a**'s and **b**'s less than or equal to 5,000."
   ]
  },
  {
   "cell_type": "markdown",
   "metadata": {},
   "source": [
    "### Method"
   ]
  },
  {
   "cell_type": "markdown",
   "metadata": {},
   "source": [
    "Before the code to complete this task is written and executed, it would be beneficial to import any necessary functions:\n",
    "\n",
    "1) **%pylab inline** will import matplotlib, which will allow for the plots to be drawn.  It will also allow the plots to be drawn inline.\n",
    "\n",
    "2) **from math import * ** will allow all functions from the math directory to be available for use. "
   ]
  },
  {
   "cell_type": "code",
   "execution_count": 1,
   "metadata": {},
   "outputs": [
    {
     "name": "stdout",
     "output_type": "stream",
     "text": [
      "Populating the interactive namespace from numpy and matplotlib\n"
     ]
    }
   ],
   "source": [
    "%pylab inline\n",
    "from math import *"
   ]
  },
  {
   "cell_type": "markdown",
   "metadata": {},
   "source": [
    "There are two conditions that must be satisifed in order for **a** and **b** to be a primitive Pythagorean triple: **a** and **b** must be relatively prime, and the equation $a^2+b^2=c^2$ must be satisfied.\n",
    "\n",
    "The first condition that will be addressed is that **a** and **b** are relatively prime.  If they are relatively prime, then the greatest common divisor of the two numbers will be 1 and only 1.  Therefore, a function that computes the GCD should be created."
   ]
  },
  {
   "cell_type": "code",
   "execution_count": 2,
   "metadata": {
    "collapsed": true
   },
   "outputs": [],
   "source": [
    "def mygcd(a,b):\n",
    "    while a!=b:\n",
    "        if a>b:\n",
    "            a=a-b\n",
    "        else:\n",
    "            b=b-a\n",
    "    return(a)"
   ]
  },
  {
   "cell_type": "markdown",
   "metadata": {},
   "source": [
    "The function **mygcd(a,b)** allows for the greatest common divisor to be determined.  To find the GCD, the smaller number is subtracted from the larger number, and this continues until both numbers are equal.  This is exactly what the function does.  If **a** is larger than **b**, then **b** is subtracted from **a**.  If **a** is smaller, then **a** is subtracted from **b**.  The function continues this while **a** and **b** are not equal.  As soon as **a** equals **b**, the function returns this number, which is the GCD.  It doesn't matter if **a** or **b** is returned because they are the same number.  Also, the *return* function is used instead of *print*, and this is so the output can be used later on.\n",
    "\n",
    "The second condition that must be satisifed is $a^2+b^2=c^2$.  A way to test this is to determine whether $a^2+b^2$ is a perfect square.  A perfect square is an integer whose square root is also an integer.  This is important because Pythagorean triples must be integers.  If $a^2+b^2$ is not a perfect square, then **a** and **b** (and by extension **c**) are not a Pythagorean triple.  The code to test this is shown below."
   ]
  },
  {
   "cell_type": "code",
   "execution_count": 3,
   "metadata": {
    "collapsed": true
   },
   "outputs": [],
   "source": [
    "def is_square(a,b):\n",
    "    c=a**2+b**2\n",
    "    x=sqrt(c)\n",
    "    y=ceil(x)\n",
    "    return(x==y)"
   ]
  },
  {
   "cell_type": "markdown",
   "metadata": {},
   "source": [
    "The **is_square(a,b)** function takes **a** and **b**, computes $a^2+b^2$, and then takes the square root of that number.  In order to test if the result of $a^2+b^2$ is a perfect square, the ceiling function is used.  The ceiling function rounds a number up to the next integer.  If $a^2+b^2$ is a perfect square, then $\\sqrt{a^2+b^2}$ and the ceiling of this number will be equal because they are both the same integer, so it will not be rounded up.  If it is not a perfect square, then the two numbers will not be equal.  This is because $\\sqrt{a^2+b^2}$ will contain decimal places, and this causes the number to be rounded up.  The function then returns True or False, depending on whether they equal or not.\n",
    "\n",
    "Using these two functions, all primitive Pythagorean triples with **a** and **b** less than or equal to 5,000 can be obtained."
   ]
  },
  {
   "cell_type": "code",
   "execution_count": 4,
   "metadata": {},
   "outputs": [],
   "source": [
    "def PPT_Generate(w,x,y,z):\n",
    "    figure(figsize=(10,10))\n",
    "    xlabel(\"a\", fontweight='bold', fontsize='12', fontname='Arial')\n",
    "    ylabel(\"b\", fontweight='bold', fontsize='12', fontname='Arial')\n",
    "\n",
    "    for a in range(w,x):\n",
    "        for b in range(y,z):\n",
    "            if mygcd(a,b)==1 and is_square(a,b)==True and a<b:\n",
    "                plot(a,b,'b.',ms=5)"
   ]
  },
  {
   "cell_type": "markdown",
   "metadata": {},
   "source": [
    "The **PPT_Generate** function allows for any range of **a** and **b** values to be plotted on a 10 by 10 figure.  In the function, for every **a** value of w to x, the code tests all **b** values from y to z.  A point **(a,b)** is only plotted if the **mygcd(a,b)** equals 1 (they are relatively prime), **is_square(a,b)** is True ($a^2+b^2$ is a perfect square), and if **a** is less than **b**.  The reason that only **a**'s that are less than **b**'s are plotted is to eliminate repeats of the triples.  For example, **(3,4)** is a point that satisfies the conditions.  However, **(4,3)** also satifies them.  We do not want to plot **(4,3)** because in the equation $a^2+b^2=c^2$, the addition part is communitive, so it could be written $b^2+a^2=c^2$.  Therefore, it is unnecessary to plot both points."
   ]
  },
  {
   "cell_type": "code",
   "execution_count": 5,
   "metadata": {
    "collapsed": true
   },
   "outputs": [],
   "source": [
    "def PPT_Print(e,f,g,h):\n",
    "    for a in range(e,f):\n",
    "        for b in range(g,h):\n",
    "            if mygcd(a,b)==1 and is_square(a,b)==True and a<b:\n",
    "                i=sqrt(a**2+b**2)\n",
    "                j=int(i)\n",
    "                print(\"{:3d}{:3d}{:4d}\".format(a,b,j))"
   ]
  },
  {
   "cell_type": "markdown",
   "metadata": {},
   "source": [
    "The **PPT_Print** function allows for any primitive Pythagorean triples that exist in a range of **a** and **b** values to be printed.  This function uses the same *for* loops and tests as the **PPT_Generate** function.  The only difference is that if **a** and **b** satisfy the conditions, the **c** value (or i in the code) is computed, and then the triple is printed.  Before printing the c-value, the number must be converted to an integer using the *int* function because the *sqrt* function returns a float, and the formatting in the *print* function only allows for integers to be printed. This function will also be used to help determine any mathematical patterns that might exist."
   ]
  },
  {
   "cell_type": "markdown",
   "metadata": {},
   "source": [
    "### Results"
   ]
  },
  {
   "cell_type": "code",
   "execution_count": 6,
   "metadata": {},
   "outputs": [
    {
     "data": {
      "text/plain": [
       "<matplotlib.text.Text at 0x286e3797860>"
      ]
     },
     "execution_count": 6,
     "metadata": {},
     "output_type": "execute_result"
    },
    {
     "data": {
      "image/png": "[encoded data removed]",
      "text/plain": [
       "<matplotlib.figure.Figure at 0x286e37b20b8>"
      ]
     },
     "metadata": {},
     "output_type": "display_data"
    }
   ],
   "source": [
    "PPT_Generate(1,5001,1,5001)\n",
    "title(\"Figure 1: Primitive Pythagorean Triples\", fontweight='bold', fontsize='16', fontname='Arial')"
   ]
  },
  {
   "cell_type": "markdown",
   "metadata": {},
   "source": [
    "**Figure 1** is a plot of all primitive Pythagorean triples for **a** and **b** less than or equal to 5,000.  Looking at the figure, one can see the points form a pattern, and are not randomly placed.  More specifically, the points form many parabolic curves.  However, this plot is very crowded, and so restricting the possible values of **a** and **b** could make the pattern a lot more prominent.\n",
    "\n",
    "First, **a** and **b** were both limited to values of 1 to 100.  Below are the results."
   ]
  },
  {
   "cell_type": "code",
   "execution_count": 7,
   "metadata": {},
   "outputs": [
    {
     "data": {
      "text/plain": [
       "<matplotlib.text.Text at 0x286e4bdff28>"
      ]
     },
     "execution_count": 7,
     "metadata": {},
     "output_type": "execute_result"
    },
    {
     "data": {
      "image/png": "[encoded data removed]",
      "text/plain": [
       "<matplotlib.figure.Figure at 0x286e46e4f28>"
      ]
     },
     "metadata": {},
     "output_type": "display_data"
    }
   ],
   "source": [
    "PPT_Generate(1,101,1,101)\n",
    "title(\"Figure 2: a-Values and b-Values Up to 100\", fontweight='bold', fontsize='16', fontname='Arial')"
   ]
  },
  {
   "cell_type": "markdown",
   "metadata": {
    "collapsed": true
   },
   "source": [
    "**Figure 2** shows **a** and **b** values from 1 to 100.  With only 18 points on the plot, there are not enough points present to show the pattern found in **Figure 1**.\n",
    "\n",
    "For the next plot, **a** will range from 1 to 500, but **b** will go from 1 to 5,000."
   ]
  },
  {
   "cell_type": "code",
   "execution_count": 8,
   "metadata": {},
   "outputs": [
    {
     "data": {
      "text/plain": [
       "<matplotlib.text.Text at 0x286e45a3358>"
      ]
     },
     "execution_count": 8,
     "metadata": {},
     "output_type": "execute_result"
    },
    {
     "data": {
      "image/png": "[encoded data removed]",
      "text/plain": [
       "<matplotlib.figure.Figure at 0x286e4bcb5f8>"
      ]
     },
     "metadata": {},
     "output_type": "display_data"
    }
   ],
   "source": [
    "PPT_Generate(1,501,1,5001)\n",
    "title(\"Figure 3: Triples for a-Values Up to 500\", fontweight='bold', fontsize='16', fontname='Arial')"
   ]
  },
  {
   "cell_type": "markdown",
   "metadata": {},
   "source": [
    "**Figure 3** clearly shows the curves that were identified in **Figure 1**.  For small values of **a** and **b**, the parabolic are very narrow, but as **a** and **b** increase, they become wider.\n",
    "\n",
    "Next, a list of triples will be printed and used to find any more mathematical patterns that might exist."
   ]
  },
  {
   "cell_type": "code",
   "execution_count": 9,
   "metadata": {},
   "outputs": [
    {
     "name": "stdout",
     "output_type": "stream",
     "text": [
      "  3  4   5\n",
      "  5 12  13\n",
      "  7 24  25\n",
      "  8 15  17\n",
      "  9 40  41\n",
      " 11 60  61\n",
      " 12 35  37\n",
      " 13 84  85\n",
      " 16 63  65\n",
      " 20 21  29\n",
      " 20 99 101\n",
      " 28 45  53\n",
      " 33 56  65\n",
      " 36 77  85\n",
      " 39 80  89\n",
      " 48 55  73\n"
     ]
    }
   ],
   "source": [
    "PPT_Print(1,51,1,101)"
   ]
  },
  {
   "cell_type": "markdown",
   "metadata": {},
   "source": [
    "In this list, there are many triples where the hypotenuse (**c** value) and the **b** value only differ by 1, and by looking at these triples, a simple pattern can be determined. So, let's look at a small set of these triples: **(3,4,5), (5,12,13), (7,24,25), (9,40,41), and (11,60,61)**.\n",
    "\n",
    "The **a** values can be computed by the equation $2x+1$.  When x=1, a=3.  When x=2, a=5.  When x=3, a=7, and so on.\n",
    "\n",
    "The **b** values follow a more complicated equation $2x^2+2x$ (or $2x(x+1)$).  When x=1, b=2+2=4.  When x=2, b=8+4=12, and so on.\n",
    "\n",
    "Finally, the **c** values are only one greater than the **b** values, or $2x^2+2x+1$."
   ]
  },
  {
   "cell_type": "markdown",
   "metadata": {},
   "source": [
    "### Conclusion"
   ]
  },
  {
   "cell_type": "markdown",
   "metadata": {},
   "source": [
    "In this report, primitive Pythagorean triples were explored.  Code was created in order to test whether pairs **(a,b)** fit the criteria to be one of the primitive triples.  The criterion the pairs needed to satisfy was that they are relatively prime, and that $a^2+b^2$ is a perfect square.  If these were satisfied, and if **a** < **b**, then the pair is a primitive Pythagorean triple.  The triples were then both plotted and printed in a list in order to find any patterns that exist within the entire set of triples.  Two patterns were ultimately identified and explored."
   ]
  },
  {
   "cell_type": "markdown",
   "metadata": {},
   "source": [
    "### References"
   ]
  },
  {
   "cell_type": "markdown",
   "metadata": {},
   "source": [
    "1) MTH 337 Class Website: http://www.acsu.buffalo.edu/~adamcunn/pythagorean_triples.html\n",
    "\n",
    "2) Wolfram: http://mathworld.wolfram.com/PythagoreanTriple.html\n",
    "\n",
    "3) Info on Triple Patterns: http://www.maths.surrey.ac.uk/hosted-sites/R.Knott/Pythag/pythag.html#section3"
   ]
  },
  {
   "cell_type": "code",
   "execution_count": null,
   "metadata": {
    "collapsed": true
   },
   "outputs": [],
   "source": []
  }
 ],
 "metadata": {
  "anaconda-cloud": {},
  "kernelspec": {
   "display_name": "Python 3",
   "language": "python",
   "name": "python3"
  },
  "language_info": {
   "codemirror_mode": {
    "name": "ipython",
    "version": 3
   },
   "file_extension": ".py",
   "mimetype": "text/x-python",
   "name": "python",
   "nbconvert_exporter": "python",
   "pygments_lexer": "ipython3",
   "version": "3.7.4"
  }
 },
 "nbformat": 4,
 "nbformat_minor": 1
}
